{
 "cells": [
  {
   "cell_type": "markdown",
   "metadata": {
    "collapsed": true
   },
   "source": [
    "## Let's segment some Stuff!\n"
   ]
  },
  {
   "cell_type": "markdown",
   "metadata": {},
   "source": [
    "#### For a smooth ride, use a kernel from a nice clean virtualenv with (the right) TF and other dependencies installed: \n",
    "\n",
    "1. Edit ```requirements``` to have the right version of tensorflow[-gpu] ,\n",
    "   <br>corresponding to your HW & CUDA setup (yep, it's not cross-compatible. Sad.)\n",
    "2. Try the following recipe:\n",
    "```\n",
    "mkdir ~/envs && mkdir ~/envs/segmentor\n",
    "virtualenv ~/envs/segmentor -p python2  # w.o. --system-packages. cleaner, safer.\n",
    "source ~/envs/segmentor/bin/activate\n",
    "which pip                      # verify it's the virtualenv's (not system's) pip\n",
    "cd seg-mentor                  # .where you cloned the repo\n",
    "pip install -r requirements\n",
    "which ipython                  # verify it's the v-env's (not system's) ipython\n",
    "ipython kernel install --user --name=segmentor\n",
    "deactivate                     # we'll want to run the system's generic jupyter\n",
    "jupyter notebook [--ip=* [--more-flags]]\n",
    "```\n",
    "3. Open the ```play-with-me.ipynb``` notebook in browser, then click ```Kernel-> Change kernel -> segmentor```\n",
    "4. If stuff doesn't work, you're trying to be smart, or your platform is special in any other way,\n",
    "   <br> Follow [THIS](http://anbasile.github.io/programming/2017/06/25/jupyter-venv/) and [THIS](https://www.tensorflow.org/install/install_linux) and figure it out:)"
   ]
  },
  {
   "cell_type": "code",
   "execution_count": null,
   "metadata": {
    "collapsed": true
   },
   "outputs": [],
   "source": [
    "import tensorflow as tf\n",
    "print tf.__version__"
   ]
  },
  {
   "cell_type": "markdown",
   "metadata": {},
   "source": [
    "#### Download a pre-trained model\n",
    "\n",
    "If ```wget``` won't work, get it the GUI way (yikes) from [https://github.com/hailotech/seg-mentor/releases]"
   ]
  },
  {
   "cell_type": "code",
   "execution_count": null,
   "metadata": {
    "collapsed": true
   },
   "outputs": [],
   "source": [
    "!mkdir tmp   # convention is having pre-trained seg models as subdirs of <repo>/tmp/\n",
    "!wget https://github.com/hailotech/seg-mentor/releases/download/v0.5/inception_v1_fcn16.tgz\n",
    "!tar -xzvf inception_v1_fcn16.tgz -C tmp/"
   ]
  },
  {
   "cell_type": "markdown",
   "metadata": {},
   "source": [
    "#### Download some media"
   ]
  },
  {
   "cell_type": "code",
   "execution_count": null,
   "metadata": {
    "collapsed": true
   },
   "outputs": [],
   "source": [
    "!wget https://github.com/hailotech/seg-mentor/releases/download/v0.5/perfectparking.mp4    \n",
    "#  use browser if this doesn't work.."
   ]
  },
  {
   "cell_type": "code",
   "execution_count": null,
   "metadata": {
    "collapsed": true,
    "scrolled": true
   },
   "outputs": [],
   "source": [
    "%%HTML\n",
    "<div align=\"middle\">\n",
    "<video width=\"80%\" controls>\n",
    "      <source src=\"perfectparking.mp4\" type=\"video/mp4\">\n",
    "</video></div>"
   ]
  },
  {
   "cell_type": "markdown",
   "metadata": {},
   "source": [
    "#### Now let's prepare and run the model:"
   ]
  },
  {
   "cell_type": "code",
   "execution_count": null,
   "metadata": {
    "collapsed": true
   },
   "outputs": [],
   "source": [
    "from fcn_test import *\n",
    "import json \n",
    "\n",
    "traindir = 'tmp/Apr24_inception_v1__1/'\n",
    "checkpoint = traindir+'fcn.ckpt' \n",
    "pixels = 512\n",
    "cfg = json.load(open(traindir+'/runargs'))\n",
    "\n",
    "fcn_builder = fcn_arch.FcnArch(number_of_classes=number_of_classes, is_training=False, net=cfg['basenet'],\n",
    "                               trainable_upsampling=cfg['trainable_upsampling'], fcn16=cfg['fcn16'])\n",
    "\n",
    "def fcnfunc_img2labels(img):\n",
    "    tmp = tf.argmax(fcn_builder.build_net(img), dimension=3)\n",
    "    return tf.expand_dims(tmp, 3)"
   ]
  },
  {
   "cell_type": "code",
   "execution_count": null,
   "metadata": {
    "collapsed": true
   },
   "outputs": [],
   "source": [
    "tf.reset_default_graph()\n",
    "segment_movie(fcnfunc_img2labels, checkpoint, 'perfectparking.mp4', pixels)"
   ]
  },
  {
   "cell_type": "markdown",
   "metadata": {},
   "source": [
    "This should give you a gist of how the code's high level part works. You'll have to dive into the files for further details, I guess...\n",
    "#### CLI note: same functionality available as:\n",
    "``` source ~/envs/segmentor/bin/activate\n",
    "python fcn_test.py --traindir=tmp/Apr24_inception_v1__1 --moviepath=perfectparking.mp4\n",
    "```"
   ]
  },
  {
   "cell_type": "markdown",
   "metadata": {},
   "source": [
    "#### OK let's see what we got:"
   ]
  },
  {
   "cell_type": "code",
   "execution_count": null,
   "metadata": {
    "collapsed": true
   },
   "outputs": [],
   "source": [
    "%%HTML\n",
    "<div align=\"middle\">\n",
    "<video width=\"80%\" controls>\n",
    "      <source src=\"perfectparking_segmented.mp4\" type=\"video/mp4\">\n",
    "</video></div>"
   ]
  },
  {
   "cell_type": "markdown",
   "metadata": {},
   "source": [
    "Well, you all probably want a smart API then movie.mp4 -> movie_segmented.mp4..\n",
    "<br> I guess you'll need to dive a bit into the code for that. As russian proverb goes, \"without work you can't even get a small fish out of the pond\""
   ]
  },
  {
   "cell_type": "markdown",
   "metadata": {},
   "source": [
    "#### Let's segment a single image now, with legends and stuff:"
   ]
  },
  {
   "cell_type": "code",
   "execution_count": null,
   "metadata": {
    "collapsed": true
   },
   "outputs": [],
   "source": [
    "!wget https://c1.staticflickr.com/9/8525/8609166764_6ab4366126_b.jpg -O turkeycar.jpg"
   ]
  },
  {
   "cell_type": "code",
   "execution_count": null,
   "metadata": {
    "collapsed": true
   },
   "outputs": [],
   "source": [
    "from fcn_test import *\n",
    "%matplotlib inline\n",
    "\n",
    "tf.reset_default_graph()\n",
    "segment_image(fcnfunc_img2labels, checkpoint, 'turkeycar.jpg', pixels)"
   ]
  },
  {
   "cell_type": "markdown",
   "metadata": {},
   "source": [
    "#### hmm... in fact, in contrast to our training set, this is a high-res image, why not try and leverage that:"
   ]
  },
  {
   "cell_type": "code",
   "execution_count": null,
   "metadata": {
    "collapsed": true
   },
   "outputs": [],
   "source": [
    "tf.reset_default_graph()\n",
    "segment_image(fcnfunc_img2labels, checkpoint, 'turkeycar.jpg', pixels=1024)"
   ]
  },
  {
   "cell_type": "markdown",
   "metadata": {},
   "source": [
    "#### CLI note: same functionality available as:\n",
    "``` source ~/envs/segmentor/bin/activate\n",
    "python fcn_test.py --traindir=tmp/Apr24_inception_v1__1 --imagepath=turkeycar.jpg.mp4 --pixels=1024\n",
    "```"
   ]
  },
  {
   "cell_type": "markdown",
   "metadata": {
    "collapsed": true
   },
   "source": [
    "### So, what about the actual validation set? \n",
    "#### well, let's run the full test, visualizing a few images along the way:\n",
    "\n",
    "Note we here run the test at \"native\" resolution of the image, mainly to give nice pictures w.o. ugly margins.\n",
    "<br>Another option is to rescale long side to *pixels* then pad to square,\n",
    "<br>using either the values used at train-time (normally 512, usually yielding best mIoU) or a custom value. "
   ]
  },
  {
   "cell_type": "code",
   "execution_count": null,
   "metadata": {
    "collapsed": true
   },
   "outputs": [],
   "source": [
    "tf.reset_default_graph()\n",
    "iterator = get_data_feed(None)\n",
    "image, annotation = iterator.get_next()\n",
    "fcnfunc_img2labels = utils.inference.adapt_network_for_any_size_input(fcn_builder.build_net, 32)\n",
    "predictions = fcnfunc_img2labels(tf.expand_dims(image, axis=0))\n",
    "def viz_cb(i, (image_np, upsampled_predictions, annotation_np)):\n",
    "    if 20 <= i < 25:\n",
    "        visualize(image_np, annotation_np, upsampled_predictions, i)\n",
    "scan_val_set(image, annotation, predictions, checkpoint, iterator,\n",
    "             callback=viz_cb, more_tensors_to_eval=[image, annotation, predictions])"
   ]
  },
  {
   "cell_type": "code",
   "execution_count": null,
   "metadata": {
    "collapsed": true
   },
   "outputs": [],
   "source": []
  },
  {
   "cell_type": "markdown",
   "metadata": {},
   "source": [
    "#### CLI note: same functionality available as:\n",
    "``` source ~/envs/segmentor/bin/activate\n",
    "python fcn_test.py --traindir=tmp/Apr24_inception_v1__1 --first2viz=10 --last2viz=15 --pixels=0\n",
    "```\n",
    "\n",
    "check out CLI help on resolution config via *pixels* arg"
   ]
  },
  {
   "cell_type": "code",
   "execution_count": null,
   "metadata": {
    "collapsed": true
   },
   "outputs": [],
   "source": []
  }
 ],
 "metadata": {
  "kernelspec": {
   "display_name": "Python 2",
   "language": "python",
   "name": "python2"
  },
  "language_info": {
   "codemirror_mode": {
    "name": "ipython",
    "version": 2
   },
   "file_extension": ".py",
   "mimetype": "text/x-python",
   "name": "python",
   "nbconvert_exporter": "python",
   "pygments_lexer": "ipython2",
   "version": "2.7.12"
  }
 },
 "nbformat": 4,
 "nbformat_minor": 2
}
